{
 "cells": [
  {
   "cell_type": "markdown",
   "id": "5c365a68",
   "metadata": {},
   "source": [
    "# DVC Configuration"
   ]
  },
  {
   "cell_type": "markdown",
   "id": "750e3d73",
   "metadata": {},
   "source": [
    "Step 1: Install and Initialize DVC"
   ]
  },
  {
   "cell_type": "code",
   "execution_count": 1,
   "id": "219dd590",
   "metadata": {},
   "outputs": [
    {
     "name": "stdout",
     "output_type": "stream",
     "text": [
      "Requirement already satisfied: dvc in /home/samrawit/insurance-risk-modeling/.venv/lib/python3.12/site-packages (3.60.1)\n",
      "Requirement already satisfied: attrs>=22.2.0 in /home/samrawit/insurance-risk-modeling/.venv/lib/python3.12/site-packages (from dvc) (25.3.0)\n",
      "Requirement already satisfied: celery in /home/samrawit/insurance-risk-modeling/.venv/lib/python3.12/site-packages (from dvc) (5.5.3)\n",
      "Requirement already satisfied: colorama>=0.3.9 in /home/samrawit/insurance-risk-modeling/.venv/lib/python3.12/site-packages (from dvc) (0.4.6)\n",
      "Requirement already satisfied: configobj>=5.0.9 in /home/samrawit/insurance-risk-modeling/.venv/lib/python3.12/site-packages (from dvc) (5.0.9)\n",
      "Requirement already satisfied: distro>=1.3 in /home/samrawit/insurance-risk-modeling/.venv/lib/python3.12/site-packages (from dvc) (1.9.0)\n",
      "Requirement already satisfied: dpath<3,>=2.1.0 in /home/samrawit/insurance-risk-modeling/.venv/lib/python3.12/site-packages (from dvc) (2.2.0)\n",
      "Requirement already satisfied: dulwich in /home/samrawit/insurance-risk-modeling/.venv/lib/python3.12/site-packages (from dvc) (0.22.8)\n",
      "Requirement already satisfied: dvc-data<3.17,>=3.16.2 in /home/samrawit/insurance-risk-modeling/.venv/lib/python3.12/site-packages (from dvc) (3.16.10)\n",
      "Requirement already satisfied: dvc-http>=2.29.0 in /home/samrawit/insurance-risk-modeling/.venv/lib/python3.12/site-packages (from dvc) (2.32.0)\n",
      "Requirement already satisfied: dvc-objects in /home/samrawit/insurance-risk-modeling/.venv/lib/python3.12/site-packages (from dvc) (5.1.1)\n",
      "Requirement already satisfied: dvc-render<2,>=1.0.1 in /home/samrawit/insurance-risk-modeling/.venv/lib/python3.12/site-packages (from dvc) (1.0.2)\n",
      "Requirement already satisfied: dvc-studio-client<1,>=0.21 in /home/samrawit/insurance-risk-modeling/.venv/lib/python3.12/site-packages (from dvc) (0.21.0)\n",
      "Requirement already satisfied: dvc-task<1,>=0.3.0 in /home/samrawit/insurance-risk-modeling/.venv/lib/python3.12/site-packages (from dvc) (0.40.2)\n",
      "Requirement already satisfied: flatten_dict<1,>=0.4.1 in /home/samrawit/insurance-risk-modeling/.venv/lib/python3.12/site-packages (from dvc) (0.4.2)\n",
      "Requirement already satisfied: flufl.lock<9,>=8.1.0 in /home/samrawit/insurance-risk-modeling/.venv/lib/python3.12/site-packages (from dvc) (8.2.0)\n",
      "Requirement already satisfied: fsspec>=2024.2.0 in /home/samrawit/insurance-risk-modeling/.venv/lib/python3.12/site-packages (from dvc) (2025.5.1)\n",
      "Requirement already satisfied: funcy>=1.14 in /home/samrawit/insurance-risk-modeling/.venv/lib/python3.12/site-packages (from dvc) (2.0)\n",
      "Requirement already satisfied: grandalf<1,>=0.7 in /home/samrawit/insurance-risk-modeling/.venv/lib/python3.12/site-packages (from dvc) (0.8)\n",
      "Requirement already satisfied: gto<2,>=1.6.0 in /home/samrawit/insurance-risk-modeling/.venv/lib/python3.12/site-packages (from dvc) (1.7.2)\n",
      "Requirement already satisfied: hydra-core>=1.1 in /home/samrawit/insurance-risk-modeling/.venv/lib/python3.12/site-packages (from dvc) (1.3.2)\n",
      "Requirement already satisfied: iterative-telemetry>=0.0.7 in /home/samrawit/insurance-risk-modeling/.venv/lib/python3.12/site-packages (from dvc) (0.0.10)\n",
      "Requirement already satisfied: kombu in /home/samrawit/insurance-risk-modeling/.venv/lib/python3.12/site-packages (from dvc) (5.5.4)\n",
      "Requirement already satisfied: networkx>=2.5 in /home/samrawit/insurance-risk-modeling/.venv/lib/python3.12/site-packages (from dvc) (3.5)\n",
      "Requirement already satisfied: omegaconf in /home/samrawit/insurance-risk-modeling/.venv/lib/python3.12/site-packages (from dvc) (2.3.0)\n",
      "Requirement already satisfied: packaging>=19 in /home/samrawit/insurance-risk-modeling/.venv/lib/python3.12/site-packages (from dvc) (25.0)\n",
      "Requirement already satisfied: pathspec>=0.10.3 in /home/samrawit/insurance-risk-modeling/.venv/lib/python3.12/site-packages (from dvc) (0.12.1)\n",
      "Requirement already satisfied: platformdirs<5,>=3.1.1 in /home/samrawit/insurance-risk-modeling/.venv/lib/python3.12/site-packages (from dvc) (4.3.8)\n",
      "Requirement already satisfied: psutil>=5.8 in /home/samrawit/insurance-risk-modeling/.venv/lib/python3.12/site-packages (from dvc) (7.0.0)\n",
      "Requirement already satisfied: pydot>=1.2.4 in /home/samrawit/insurance-risk-modeling/.venv/lib/python3.12/site-packages (from dvc) (4.0.0)\n",
      "Requirement already satisfied: pygtrie>=2.3.2 in /home/samrawit/insurance-risk-modeling/.venv/lib/python3.12/site-packages (from dvc) (2.5.0)\n",
      "Requirement already satisfied: pyparsing>=2.4.7 in /home/samrawit/insurance-risk-modeling/.venv/lib/python3.12/site-packages (from dvc) (3.2.3)\n",
      "Requirement already satisfied: requests>=2.22 in /home/samrawit/insurance-risk-modeling/.venv/lib/python3.12/site-packages (from dvc) (2.32.4)\n",
      "Requirement already satisfied: rich>=12 in /home/samrawit/insurance-risk-modeling/.venv/lib/python3.12/site-packages (from dvc) (14.0.0)\n",
      "Requirement already satisfied: ruamel.yaml>=0.17.11 in /home/samrawit/insurance-risk-modeling/.venv/lib/python3.12/site-packages (from dvc) (0.18.14)\n",
      "Requirement already satisfied: scmrepo<4,>=3.3.8 in /home/samrawit/insurance-risk-modeling/.venv/lib/python3.12/site-packages (from dvc) (3.3.11)\n",
      "Requirement already satisfied: shortuuid>=0.5 in /home/samrawit/insurance-risk-modeling/.venv/lib/python3.12/site-packages (from dvc) (1.0.13)\n",
      "Requirement already satisfied: shtab<2,>=1.3.4 in /home/samrawit/insurance-risk-modeling/.venv/lib/python3.12/site-packages (from dvc) (1.7.2)\n",
      "Requirement already satisfied: tabulate>=0.8.7 in /home/samrawit/insurance-risk-modeling/.venv/lib/python3.12/site-packages (from dvc) (0.9.0)\n",
      "Requirement already satisfied: tomlkit>=0.11.1 in /home/samrawit/insurance-risk-modeling/.venv/lib/python3.12/site-packages (from dvc) (0.13.3)\n",
      "Requirement already satisfied: tqdm<5,>=4.63.1 in /home/samrawit/insurance-risk-modeling/.venv/lib/python3.12/site-packages (from dvc) (4.67.1)\n",
      "Requirement already satisfied: voluptuous>=0.11.7 in /home/samrawit/insurance-risk-modeling/.venv/lib/python3.12/site-packages (from dvc) (0.15.2)\n",
      "Requirement already satisfied: zc.lockfile>=1.2.1 in /home/samrawit/insurance-risk-modeling/.venv/lib/python3.12/site-packages (from dvc) (3.0.post1)\n",
      "Requirement already satisfied: dictdiffer>=0.8.1 in /home/samrawit/insurance-risk-modeling/.venv/lib/python3.12/site-packages (from dvc-data<3.17,>=3.16.2->dvc) (0.9.0)\n",
      "Requirement already satisfied: diskcache>=5.2.1 in /home/samrawit/insurance-risk-modeling/.venv/lib/python3.12/site-packages (from dvc-data<3.17,>=3.16.2->dvc) (5.6.3)\n",
      "Requirement already satisfied: sqltrie<1,>=0.11.0 in /home/samrawit/insurance-risk-modeling/.venv/lib/python3.12/site-packages (from dvc-data<3.17,>=3.16.2->dvc) (0.11.2)\n",
      "Requirement already satisfied: orjson<4,>=3 in /home/samrawit/insurance-risk-modeling/.venv/lib/python3.12/site-packages (from dvc-data<3.17,>=3.16.2->dvc) (3.10.18)\n",
      "Requirement already satisfied: aiohttp-retry>=2.5.0 in /home/samrawit/insurance-risk-modeling/.venv/lib/python3.12/site-packages (from dvc-http>=2.29.0->dvc) (2.9.1)\n",
      "Requirement already satisfied: billiard<5.0,>=4.2.1 in /home/samrawit/insurance-risk-modeling/.venv/lib/python3.12/site-packages (from celery->dvc) (4.2.1)\n",
      "Requirement already satisfied: vine<6.0,>=5.1.0 in /home/samrawit/insurance-risk-modeling/.venv/lib/python3.12/site-packages (from celery->dvc) (5.1.0)\n",
      "Requirement already satisfied: click<9.0,>=8.1.2 in /home/samrawit/insurance-risk-modeling/.venv/lib/python3.12/site-packages (from celery->dvc) (8.2.1)\n",
      "Requirement already satisfied: click-didyoumean>=0.3.0 in /home/samrawit/insurance-risk-modeling/.venv/lib/python3.12/site-packages (from celery->dvc) (0.3.1)\n",
      "Requirement already satisfied: click-repl>=0.2.0 in /home/samrawit/insurance-risk-modeling/.venv/lib/python3.12/site-packages (from celery->dvc) (0.3.0)\n",
      "Requirement already satisfied: click-plugins>=1.1.1 in /home/samrawit/insurance-risk-modeling/.venv/lib/python3.12/site-packages (from celery->dvc) (1.1.1)\n",
      "Requirement already satisfied: python-dateutil>=2.8.2 in /home/samrawit/insurance-risk-modeling/.venv/lib/python3.12/site-packages (from celery->dvc) (2.9.0.post0)\n",
      "Requirement already satisfied: six<2.0,>=1.12 in /home/samrawit/insurance-risk-modeling/.venv/lib/python3.12/site-packages (from flatten_dict<1,>=0.4.1->dvc) (1.17.0)\n",
      "Requirement already satisfied: atpublic in /home/samrawit/insurance-risk-modeling/.venv/lib/python3.12/site-packages (from flufl.lock<9,>=8.1.0->dvc) (6.0.1)\n",
      "Requirement already satisfied: entrypoints in /home/samrawit/insurance-risk-modeling/.venv/lib/python3.12/site-packages (from gto<2,>=1.6.0->dvc) (0.4)\n",
      "Requirement already satisfied: pydantic!=2.0.0,<3,>=1.9.0 in /home/samrawit/insurance-risk-modeling/.venv/lib/python3.12/site-packages (from gto<2,>=1.6.0->dvc) (2.11.7)\n",
      "Requirement already satisfied: semver>=2.13.0 in /home/samrawit/insurance-risk-modeling/.venv/lib/python3.12/site-packages (from gto<2,>=1.6.0->dvc) (3.0.4)\n",
      "Requirement already satisfied: typer>=0.4.1 in /home/samrawit/insurance-risk-modeling/.venv/lib/python3.12/site-packages (from gto<2,>=1.6.0->dvc) (0.16.0)\n",
      "Requirement already satisfied: antlr4-python3-runtime==4.9.* in /home/samrawit/insurance-risk-modeling/.venv/lib/python3.12/site-packages (from hydra-core>=1.1->dvc) (4.9.3)\n",
      "Requirement already satisfied: appdirs in /home/samrawit/insurance-risk-modeling/.venv/lib/python3.12/site-packages (from iterative-telemetry>=0.0.7->dvc) (1.4.4)\n",
      "Requirement already satisfied: filelock in /home/samrawit/insurance-risk-modeling/.venv/lib/python3.12/site-packages (from iterative-telemetry>=0.0.7->dvc) (3.18.0)\n",
      "Requirement already satisfied: amqp<6.0.0,>=5.1.1 in /home/samrawit/insurance-risk-modeling/.venv/lib/python3.12/site-packages (from kombu->dvc) (5.3.1)\n",
      "Requirement already satisfied: tzdata>=2025.2 in /home/samrawit/insurance-risk-modeling/.venv/lib/python3.12/site-packages (from kombu->dvc) (2025.2)\n",
      "Requirement already satisfied: PyYAML>=5.1.0 in /home/samrawit/insurance-risk-modeling/.venv/lib/python3.12/site-packages (from omegaconf->dvc) (6.0.2)\n",
      "Requirement already satisfied: charset_normalizer<4,>=2 in /home/samrawit/insurance-risk-modeling/.venv/lib/python3.12/site-packages (from requests>=2.22->dvc) (3.4.2)\n",
      "Requirement already satisfied: idna<4,>=2.5 in /home/samrawit/insurance-risk-modeling/.venv/lib/python3.12/site-packages (from requests>=2.22->dvc) (3.10)\n",
      "Requirement already satisfied: urllib3<3,>=1.21.1 in /home/samrawit/insurance-risk-modeling/.venv/lib/python3.12/site-packages (from requests>=2.22->dvc) (2.4.0)\n",
      "Requirement already satisfied: certifi>=2017.4.17 in /home/samrawit/insurance-risk-modeling/.venv/lib/python3.12/site-packages (from requests>=2.22->dvc) (2025.6.15)\n",
      "Requirement already satisfied: markdown-it-py>=2.2.0 in /home/samrawit/insurance-risk-modeling/.venv/lib/python3.12/site-packages (from rich>=12->dvc) (3.0.0)\n",
      "Requirement already satisfied: pygments<3.0.0,>=2.13.0 in /home/samrawit/insurance-risk-modeling/.venv/lib/python3.12/site-packages (from rich>=12->dvc) (2.19.1)\n",
      "Requirement already satisfied: ruamel.yaml.clib>=0.2.7 in /home/samrawit/insurance-risk-modeling/.venv/lib/python3.12/site-packages (from ruamel.yaml>=0.17.11->dvc) (0.2.12)\n",
      "Requirement already satisfied: gitpython>3 in /home/samrawit/insurance-risk-modeling/.venv/lib/python3.12/site-packages (from scmrepo<4,>=3.3.8->dvc) (3.1.44)\n",
      "Requirement already satisfied: pygit2>=1.14.0 in /home/samrawit/insurance-risk-modeling/.venv/lib/python3.12/site-packages (from scmrepo<4,>=3.3.8->dvc) (1.18.0)\n",
      "Requirement already satisfied: asyncssh<3,>=2.13.1 in /home/samrawit/insurance-risk-modeling/.venv/lib/python3.12/site-packages (from scmrepo<4,>=3.3.8->dvc) (2.21.0)\n",
      "Requirement already satisfied: setuptools in /home/samrawit/insurance-risk-modeling/.venv/lib/python3.12/site-packages (from zc.lockfile>=1.2.1->dvc) (80.9.0)\n",
      "Requirement already satisfied: aiohttp in /home/samrawit/insurance-risk-modeling/.venv/lib/python3.12/site-packages (from aiohttp-retry>=2.5.0->dvc-http>=2.29.0->dvc) (3.12.13)\n",
      "Requirement already satisfied: cryptography>=39.0 in /home/samrawit/insurance-risk-modeling/.venv/lib/python3.12/site-packages (from asyncssh<3,>=2.13.1->scmrepo<4,>=3.3.8->dvc) (45.0.4)\n",
      "Requirement already satisfied: typing_extensions>=4.0.0 in /home/samrawit/insurance-risk-modeling/.venv/lib/python3.12/site-packages (from asyncssh<3,>=2.13.1->scmrepo<4,>=3.3.8->dvc) (4.14.0)\n",
      "Requirement already satisfied: prompt-toolkit>=3.0.36 in /home/samrawit/insurance-risk-modeling/.venv/lib/python3.12/site-packages (from click-repl>=0.2.0->celery->dvc) (3.0.51)\n",
      "Requirement already satisfied: gitdb<5,>=4.0.1 in /home/samrawit/insurance-risk-modeling/.venv/lib/python3.12/site-packages (from gitpython>3->scmrepo<4,>=3.3.8->dvc) (4.0.12)\n",
      "Requirement already satisfied: mdurl~=0.1 in /home/samrawit/insurance-risk-modeling/.venv/lib/python3.12/site-packages (from markdown-it-py>=2.2.0->rich>=12->dvc) (0.1.2)\n",
      "Requirement already satisfied: annotated-types>=0.6.0 in /home/samrawit/insurance-risk-modeling/.venv/lib/python3.12/site-packages (from pydantic!=2.0.0,<3,>=1.9.0->gto<2,>=1.6.0->dvc) (0.7.0)\n",
      "Requirement already satisfied: pydantic-core==2.33.2 in /home/samrawit/insurance-risk-modeling/.venv/lib/python3.12/site-packages (from pydantic!=2.0.0,<3,>=1.9.0->gto<2,>=1.6.0->dvc) (2.33.2)\n",
      "Requirement already satisfied: typing-inspection>=0.4.0 in /home/samrawit/insurance-risk-modeling/.venv/lib/python3.12/site-packages (from pydantic!=2.0.0,<3,>=1.9.0->gto<2,>=1.6.0->dvc) (0.4.1)\n",
      "Requirement already satisfied: cffi>=1.17.0 in /home/samrawit/insurance-risk-modeling/.venv/lib/python3.12/site-packages (from pygit2>=1.14.0->scmrepo<4,>=3.3.8->dvc) (1.17.1)\n",
      "Requirement already satisfied: shellingham>=1.3.0 in /home/samrawit/insurance-risk-modeling/.venv/lib/python3.12/site-packages (from typer>=0.4.1->gto<2,>=1.6.0->dvc) (1.5.4)\n",
      "Requirement already satisfied: aiohappyeyeballs>=2.5.0 in /home/samrawit/insurance-risk-modeling/.venv/lib/python3.12/site-packages (from aiohttp->aiohttp-retry>=2.5.0->dvc-http>=2.29.0->dvc) (2.6.1)\n",
      "Requirement already satisfied: aiosignal>=1.1.2 in /home/samrawit/insurance-risk-modeling/.venv/lib/python3.12/site-packages (from aiohttp->aiohttp-retry>=2.5.0->dvc-http>=2.29.0->dvc) (1.3.2)\n",
      "Requirement already satisfied: frozenlist>=1.1.1 in /home/samrawit/insurance-risk-modeling/.venv/lib/python3.12/site-packages (from aiohttp->aiohttp-retry>=2.5.0->dvc-http>=2.29.0->dvc) (1.7.0)\n",
      "Requirement already satisfied: multidict<7.0,>=4.5 in /home/samrawit/insurance-risk-modeling/.venv/lib/python3.12/site-packages (from aiohttp->aiohttp-retry>=2.5.0->dvc-http>=2.29.0->dvc) (6.4.4)\n",
      "Requirement already satisfied: propcache>=0.2.0 in /home/samrawit/insurance-risk-modeling/.venv/lib/python3.12/site-packages (from aiohttp->aiohttp-retry>=2.5.0->dvc-http>=2.29.0->dvc) (0.3.2)\n",
      "Requirement already satisfied: yarl<2.0,>=1.17.0 in /home/samrawit/insurance-risk-modeling/.venv/lib/python3.12/site-packages (from aiohttp->aiohttp-retry>=2.5.0->dvc-http>=2.29.0->dvc) (1.20.1)\n",
      "Requirement already satisfied: pycparser in /home/samrawit/insurance-risk-modeling/.venv/lib/python3.12/site-packages (from cffi>=1.17.0->pygit2>=1.14.0->scmrepo<4,>=3.3.8->dvc) (2.22)\n",
      "Requirement already satisfied: smmap<6,>=3.0.1 in /home/samrawit/insurance-risk-modeling/.venv/lib/python3.12/site-packages (from gitdb<5,>=4.0.1->gitpython>3->scmrepo<4,>=3.3.8->dvc) (5.0.2)\n",
      "Requirement already satisfied: wcwidth in /home/samrawit/insurance-risk-modeling/.venv/lib/python3.12/site-packages (from prompt-toolkit>=3.0.36->click-repl>=0.2.0->celery->dvc) (0.2.13)\n",
      "Note: you may need to restart the kernel to use updated packages.\n",
      "\u001b[31mERROR\u001b[39m: failed to initiate DVC - /home/samrawit/insurance-risk-modeling/notebooks is not tracked by any supported SCM tool (e.g. Git). Use `--no-scm` if you don't want to use any SCM or `--subdir` if initializing inside a subdirectory of a parent SCM repository.\n",
      "\u001b[0m"
     ]
    }
   ],
   "source": [
    "\n",
    "\n",
    "# Install DVC if not already installed\n",
    "%pip install dvc\n",
    "\n",
    "# Initialize DVC in the current repository (only run once)\n",
    "!dvc init\n",
    "\n"
   ]
  },
  {
   "cell_type": "markdown",
   "id": "9f92d944",
   "metadata": {},
   "source": [
    " Step 2: Configure Local Remote Storage"
   ]
  },
  {
   "cell_type": "code",
   "execution_count": 2,
   "id": "6f0424a1",
   "metadata": {},
   "outputs": [
    {
     "name": "stdout",
     "output_type": "stream",
     "text": [
      "Setting 'localstorage' as a default remote.\n",
      "\u001b[0m"
     ]
    }
   ],
   "source": [
    "# Create a local directory to store versioned data\n",
    "!mkdir -p ../dvc_storage\n",
    "\n",
    "# Add the local directory as the DVC remote\n",
    "!dvc remote add -d localstorage ../dvc_storage"
   ]
  },
  {
   "cell_type": "markdown",
   "id": "a04bcbd1",
   "metadata": {},
   "source": [
    " Step 3: Add Dataset to DVC"
   ]
  },
  {
   "cell_type": "code",
   "execution_count": 3,
   "id": "0abe7ed2",
   "metadata": {},
   "outputs": [
    {
     "name": "stdout",
     "output_type": "stream",
     "text": [
      "\u001b[?25l\u001b[32m⠋\u001b[0m Checking graph                                       core\u001b[39m>\n",
      "Adding...                                                                       \n",
      "!\u001b[A\n",
      "Collecting files and computing hashes in ../data/MachineLearningRating_v3.txt |0\u001b[A\n",
      "                                                                                \u001b[A\n",
      "!\u001b[A\n",
      "  0% Checking cache in '/home/samrawit/insurance-risk-modeling/.dvc/cache/files/\u001b[A\n",
      "                                                                                \u001b[A\n",
      "!\u001b[A\n",
      "  0%|          |Checking out /home/samrawit/insurance-0/1 [00:00<?,    ?files/s]\u001b[A\n",
      "100%|██████████|Checking out /home/samrawit/insur1/1 [00:04<00:00,  4.11s/files]\u001b[A\n",
      "100% Adding...|████████████████████████████████████████|1/1 [00:04,  4.21s/file]\u001b[A\n",
      "\n",
      "To track the changes with git, run:\n",
      "\n",
      "\tgit add ../data/MachineLearningRating_v3.txt.dvc\n",
      "\n",
      "To enable auto staging, run:\n",
      "\n",
      "\tdvc config core.autostage true\n",
      "\u001b[0mMachineLearningRating_v3.txt  MachineLearningRating_v3.txt.dvc\n"
     ]
    }
   ],
   "source": [
    "\n",
    "\n",
    "# Track the main dataset with DVC\n",
    "!dvc add ../data/MachineLearningRating_v3.txt\n",
    "\n",
    "# Check that the .dvc file was created\n",
    "!ls ../data\n",
    "\n"
   ]
  },
  {
   "cell_type": "markdown",
   "id": "8b73863b",
   "metadata": {},
   "source": [
    "Step 4: Commit Tracking Files to Git"
   ]
  },
  {
   "cell_type": "code",
   "execution_count": 4,
   "id": "12c31286",
   "metadata": {},
   "outputs": [
    {
     "name": "stdout",
     "output_type": "stream",
     "text": [
      "fatal: pathspec '../data/insurance.txt.dvc' did not match any files\n",
      "On branch task-4\n",
      "Your branch is ahead of 'origin/task-4' by 8 commits.\n",
      "  (use \"git push\" to publish your local commits)\n",
      "\n",
      "Changes not staged for commit:\n",
      "  (use \"git add <file>...\" to update what will be committed)\n",
      "  (use \"git restore <file>...\" to discard changes in working directory)\n",
      "\t\u001b[31mmodified:   ../.dvc/config\u001b[m\n",
      "\t\u001b[31mmodified:   task4_modeling.ipynb\u001b[m\n",
      "\n",
      "Untracked files:\n",
      "  (use \"git add <file>...\" to include in what will be committed)\n",
      "\t\u001b[31mtask2_dvc.ipynb\u001b[m\n",
      "\n",
      "no changes added to commit (use \"git add\" and/or \"git commit -a\")\n"
     ]
    }
   ],
   "source": [
    "\n",
    "\n",
    "# Add DVC tracking files and commit to Git\n",
    "!git add ../data/insurance.txt.dvc .gitignore .dvc/config\n",
    "!git commit -m \"Track insurance dataset with DVC and setup local remote\"\n",
    "\n"
   ]
  },
  {
   "cell_type": "markdown",
   "id": "9aae20dc",
   "metadata": {},
   "source": [
    "Step 5: Push Dataset to Remote Storage"
   ]
  },
  {
   "cell_type": "code",
   "execution_count": 5,
   "id": "d94f91a6",
   "metadata": {},
   "outputs": [
    {
     "name": "stdout",
     "output_type": "stream",
     "text": [
      "Collecting                                            |3.00 [00:00, 75.6entry/s]\n",
      "Pushing\n",
      "!\u001b[A\n",
      "  0% Checking cache in '/home/samrawit/insurance-risk-modeling/dvc_storage/files\u001b[A\n",
      "                                                                                \u001b[A\n",
      "!\u001b[A\n",
      "  0% Checking cache in '/home/samrawit/insurance-risk-modeling/.dvc/cache/files/\u001b[A\n",
      "                                                                                \u001b[A\n",
      "!\u001b[A\n",
      "  0%|          |Pushing to local                      0/3 [00:00<?,     ?file/s]\u001b[A\n",
      " 33%|███▎      |Pushing to local                  1/3 [00:03<00:07,  3.70s/file]\u001b[A\n",
      "Pushing                                                                         \u001b[A\n",
      "3 files pushed\n",
      "\u001b[0m"
     ]
    }
   ],
   "source": [
    "\n",
    "\n",
    "# Push the dataset to the local remote\n",
    "!dvc push\n",
    "\n"
   ]
  }
 ],
 "metadata": {
  "kernelspec": {
   "display_name": ".venv",
   "language": "python",
   "name": "python3"
  },
  "language_info": {
   "codemirror_mode": {
    "name": "ipython",
    "version": 3
   },
   "file_extension": ".py",
   "mimetype": "text/x-python",
   "name": "python",
   "nbconvert_exporter": "python",
   "pygments_lexer": "ipython3",
   "version": "3.12.3"
  }
 },
 "nbformat": 4,
 "nbformat_minor": 5
}
