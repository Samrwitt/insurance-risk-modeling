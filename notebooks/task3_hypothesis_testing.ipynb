{
 "cells": [
  {
   "cell_type": "markdown",
   "id": "e194dd58",
   "metadata": {},
   "source": [
    "# Hypothesis testing"
   ]
  },
  {
   "cell_type": "code",
   "execution_count": 2,
   "id": "3543995d",
   "metadata": {},
   "outputs": [],
   "source": [
    "import pandas as pd\n",
    "import numpy as np\n",
    "from scipy.stats import chi2_contingency, ttest_ind, f_oneway\n",
    "\n"
   ]
  },
  {
   "cell_type": "code",
   "execution_count": 4,
   "id": "ef222f59",
   "metadata": {},
   "outputs": [
    {
     "name": "stderr",
     "output_type": "stream",
     "text": [
      "/tmp/ipykernel_40865/1487130439.py:1: DtypeWarning: Columns (32,37) have mixed types. Specify dtype option on import or set low_memory=False.\n",
      "  df = pd.read_csv('../data/MachineLearningRating_v3.txt', delimiter='|')\n"
     ]
    }
   ],
   "source": [
    "df = pd.read_csv('../data/MachineLearningRating_v3.txt', delimiter='|')"
   ]
  },
  {
   "cell_type": "code",
   "execution_count": 5,
   "id": "34abd608",
   "metadata": {},
   "outputs": [],
   "source": [
    "df['HasClaim'] = df['TotalClaims'] > 0\n",
    "df['Margin'] = df['TotalPremium'] - df['TotalClaims']\n"
   ]
  },
  {
   "cell_type": "markdown",
   "id": "8d49aa57",
   "metadata": {},
   "source": [
    "🔹 H₀₁: Provinces have equal risk (Claim Frequency)"
   ]
  },
  {
   "cell_type": "code",
   "execution_count": 6,
   "id": "f1f4cd19",
   "metadata": {},
   "outputs": [
    {
     "name": "stdout",
     "output_type": "stream",
     "text": [
      "Province\n",
      "Eastern Cape     0.001648\n",
      "Free State       0.001358\n",
      "Gauteng          0.003356\n",
      "KwaZulu-Natal    0.002845\n",
      "Limpopo          0.002698\n",
      "Mpumalanga       0.002428\n",
      "North West       0.002436\n",
      "Northern Cape    0.001254\n",
      "Western Cape     0.002166\n",
      "Name: HasClaim, dtype: float64\n",
      "ANOVA F-stat: 13.025, p-value: 0.00000\n"
     ]
    }
   ],
   "source": [
    "province_claim_freq = df.groupby('Province')['HasClaim'].mean()\n",
    "print(province_claim_freq)\n",
    "\n",
    "# ANOVA test\n",
    "groups = [group['HasClaim'].values for name, group in df.groupby('Province')]\n",
    "f_stat, p_val = f_oneway(*groups)\n",
    "\n",
    "print(f\"ANOVA F-stat: {f_stat:.3f}, p-value: {p_val:.5f}\")\n"
   ]
  },
  {
   "cell_type": "markdown",
   "id": "d8d74a49",
   "metadata": {},
   "source": [
    "🔹 H₀₂: Zipcodes have equal claim severity"
   ]
  },
  {
   "cell_type": "code",
   "execution_count": 7,
   "id": "b902b0be",
   "metadata": {},
   "outputs": [
    {
     "name": "stdout",
     "output_type": "stream",
     "text": [
      "ANOVA F-stat (ZipCode Severity): 2.562, p-value: 0.00000\n"
     ]
    }
   ],
   "source": [
    "# Only those who made a claim\n",
    "claimed = df[df['HasClaim'] == True]\n",
    "\n",
    "groups = [group['TotalClaims'].values for name, group in claimed.groupby('PostalCode') if len(group) > 10]\n",
    "f_stat, p_val = f_oneway(*groups)\n",
    "\n",
    "print(f\"ANOVA F-stat (ZipCode Severity): {f_stat:.3f}, p-value: {p_val:.5f}\")\n"
   ]
  },
  {
   "cell_type": "markdown",
   "id": "a7f4030d",
   "metadata": {},
   "source": [
    "H₀₃: Zipcodes have equal profit margin"
   ]
  },
  {
   "cell_type": "code",
   "execution_count": 8,
   "id": "6b94ab6a",
   "metadata": {},
   "outputs": [
    {
     "name": "stdout",
     "output_type": "stream",
     "text": [
      "ANOVA F-stat (Margin by Zip): 0.910, p-value: 0.97031\n"
     ]
    }
   ],
   "source": [
    "groups = [group['Margin'].values for name, group in df.groupby('PostalCode') if len(group) > 10]\n",
    "f_stat, p_val = f_oneway(*groups)\n",
    "\n",
    "print(f\"ANOVA F-stat (Margin by Zip): {f_stat:.3f}, p-value: {p_val:.5f}\")\n"
   ]
  },
  {
   "cell_type": "markdown",
   "id": "87fe4de6",
   "metadata": {},
   "source": [
    " H₀₄: No difference in claim frequency between genders (Chi-squared)"
   ]
  },
  {
   "cell_type": "code",
   "execution_count": 9,
   "id": "a19f527a",
   "metadata": {},
   "outputs": [
    {
     "name": "stdout",
     "output_type": "stream",
     "text": [
      "Chi-squared test:\n",
      "Chi2 = 7.256, p-value = 0.02657\n"
     ]
    }
   ],
   "source": [
    "contingency = pd.crosstab(df['Gender'], df['HasClaim'])\n",
    "chi2, p_val, dof, expected = chi2_contingency(contingency)\n",
    "\n",
    "print(\"Chi-squared test:\")\n",
    "print(f\"Chi2 = {chi2:.3f}, p-value = {p_val:.5f}\")\n"
   ]
  }
 ],
 "metadata": {
  "kernelspec": {
   "display_name": ".venv",
   "language": "python",
   "name": "python3"
  },
  "language_info": {
   "codemirror_mode": {
    "name": "ipython",
    "version": 3
   },
   "file_extension": ".py",
   "mimetype": "text/x-python",
   "name": "python",
   "nbconvert_exporter": "python",
   "pygments_lexer": "ipython3",
   "version": "3.12.3"
  }
 },
 "nbformat": 4,
 "nbformat_minor": 5
}
